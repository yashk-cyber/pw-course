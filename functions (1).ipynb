{
  "nbformat": 4,
  "nbformat_minor": 0,
  "metadata": {
    "colab": {
      "provenance": []
    },
    "kernelspec": {
      "name": "python3",
      "display_name": "Python 3"
    },
    "language_info": {
      "name": "python"
    }
  },
  "cells": [
    {
      "cell_type": "markdown",
      "source": [
        "# functions\n"
      ],
      "metadata": {
        "id": "TeUKFHJT3i7h"
      }
    },
    {
      "cell_type": "markdown",
      "source": [
        "  1. what is function?\n",
        "    - a relationship between inputs where each input is related to exactly one output.In simple words, a function is\n",
        "\n",
        "  2. second question\n",
        "    - In simple words, a function is"
      ],
      "metadata": {
        "id": "Hh48rtyN4JY6"
      }
    },
    {
      "cell_type": "markdown",
      "source": [],
      "metadata": {
        "id": "sNuoShe34hj3"
      }
    },
    {
      "cell_type": "code",
      "execution_count": 2,
      "metadata": {
        "colab": {
          "base_uri": "https://localhost:8080/",
          "height": 36
        },
        "id": "gJL4GoZ33RF6",
        "outputId": "7f40596c-dc3d-4ed8-f036-5fbfb08d45f7"
      },
      "outputs": [
        {
          "output_type": "execute_result",
          "data": {
            "text/plain": [
              "'\\nthis is ans 2\\n'"
            ],
            "application/vnd.google.colaboratory.intrinsic+json": {
              "type": "string"
            }
          },
          "metadata": {},
          "execution_count": 2
        }
      ],
      "source": [
        "# Questions\n",
        "'''\n",
        "this is ans\n",
        "'''\n",
        "\"\"\"\n",
        "this is ans 2\n",
        "\"\"\""
      ]
    }
  ]
}